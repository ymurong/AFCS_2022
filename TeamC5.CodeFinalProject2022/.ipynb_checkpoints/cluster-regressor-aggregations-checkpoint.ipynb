{
 "cells": [
  {
   "cell_type": "code",
   "execution_count": 1,
   "id": "f4608e92-b909-445a-891d-415f25acad8a",
   "metadata": {},
   "outputs": [
    {
     "name": "stderr",
     "output_type": "stream",
     "text": [
      "── \u001b[1mAttaching packages\u001b[22m ──────────────────────────────────────────── fpp3 0.4.0 ──\n",
      "\n",
      "\u001b[32m✔\u001b[39m \u001b[34mtibble     \u001b[39m 3.1.7     \u001b[32m✔\u001b[39m \u001b[34mtsibble    \u001b[39m 1.1.3\n",
      "\u001b[32m✔\u001b[39m \u001b[34mdplyr      \u001b[39m 1.0.9     \u001b[32m✔\u001b[39m \u001b[34mtsibbledata\u001b[39m 0.4.1\n",
      "\u001b[32m✔\u001b[39m \u001b[34mtidyr      \u001b[39m 1.2.0     \u001b[32m✔\u001b[39m \u001b[34mfeasts     \u001b[39m 0.3.0\n",
      "\u001b[32m✔\u001b[39m \u001b[34mlubridate  \u001b[39m 1.8.0     \u001b[32m✔\u001b[39m \u001b[34mfable      \u001b[39m 0.3.2\n",
      "\u001b[32m✔\u001b[39m \u001b[34mggplot2    \u001b[39m 3.4.0     \n",
      "\n",
      "── \u001b[1mConflicts\u001b[22m ───────────────────────────────────────────────── fpp3_conflicts ──\n",
      "\u001b[31m✖\u001b[39m \u001b[34mlubridate\u001b[39m::\u001b[32mdate()\u001b[39m    masks \u001b[34mbase\u001b[39m::date()\n",
      "\u001b[31m✖\u001b[39m \u001b[34mdplyr\u001b[39m::\u001b[32mfilter()\u001b[39m      masks \u001b[34mstats\u001b[39m::filter()\n",
      "\u001b[31m✖\u001b[39m \u001b[34mtsibble\u001b[39m::\u001b[32mintersect()\u001b[39m masks \u001b[34mbase\u001b[39m::intersect()\n",
      "\u001b[31m✖\u001b[39m \u001b[34mtsibble\u001b[39m::\u001b[32minterval()\u001b[39m  masks \u001b[34mlubridate\u001b[39m::interval()\n",
      "\u001b[31m✖\u001b[39m \u001b[34mdplyr\u001b[39m::\u001b[32mlag()\u001b[39m         masks \u001b[34mstats\u001b[39m::lag()\n",
      "\u001b[31m✖\u001b[39m \u001b[34mtsibble\u001b[39m::\u001b[32msetdiff()\u001b[39m   masks \u001b[34mbase\u001b[39m::setdiff()\n",
      "\u001b[31m✖\u001b[39m \u001b[34mtsibble\u001b[39m::\u001b[32munion()\u001b[39m     masks \u001b[34mbase\u001b[39m::union()\n",
      "\n"
     ]
    }
   ],
   "source": [
    "library(fpp3)\n",
    "library(stringr)\n",
    "library(fastDummies)\n",
    "library(future)\n",
    "# library(forecast)\n",
    "options(repr.plot.width=20, repr.plot.height=5)"
   ]
  },
  {
   "cell_type": "markdown",
   "id": "7ce8d3f1-a4d8-479b-910d-c780612f0329",
   "metadata": {
    "jp-MarkdownHeadingCollapsed": true,
    "tags": []
   },
   "source": [
    "## Prepare data"
   ]
  },
  {
   "cell_type": "code",
   "execution_count": 2,
   "id": "0e99e53f-cc3f-4aa7-933d-5f92af94140b",
   "metadata": {},
   "outputs": [],
   "source": [
    "df_final_train_features = read.csv(\"df_final_train_features.csv\")\n",
    "df_final_train_features = df_final_train_features %>%\n",
    "    mutate(cluster = as.factor(cluster)) %>%\n",
    "    mutate(snap_TX = as.factor(snap_TX))\n",
    "df_final_test_features = read.csv(\"df_final_test_features.csv\")\n",
    "df_final_test_features = df_final_test_features %>%\n",
    "    mutate(cluster= as.factor(cluster)) %>%\n",
    "    mutate(snap_TX = as.factor(snap_TX))\n",
    "\n",
    "# create quarter\n",
    "df_final_train_features = df_final_train_features %>% mutate(quarter = quarter(date))\n",
    "df_final_test_features = df_final_test_features %>% mutate(quarter = quarter(date))\n",
    "\n",
    "### Dummy varaibles\n",
    "df_final_train_features <- dummy_cols(df_final_train_features, select_columns = 'wday', remove_first_dummy= TRUE)\n",
    "df_final_test_features <- dummy_cols(df_final_test_features, select_columns = 'wday', remove_first_dummy= TRUE)\n",
    "df_final_train_features <- dummy_cols(df_final_train_features, select_columns = 'quarter', remove_first_dummy= TRUE)\n",
    "df_final_test_features = df_final_test_features %>%\n",
    "                            mutate(quarter_2 = 1) %>%\n",
    "                            mutate(quarter_3 = 0) %>%\n",
    "                            mutate(quarter_4 = 0) \n",
    "df_final_train_features <- dummy_cols(df_final_train_features, select_columns = 'month', remove_first_dummy= TRUE)\n",
    "df_final_test_features <- df_final_test_features %>%\n",
    "                            mutate(month_2 = 0) %>%\n",
    "                            mutate(month_3 = 0) %>%\n",
    "                            mutate(month_4 = ifelse(month(date) == 4, 1, 0)) %>%\n",
    "                            mutate(month_5 = ifelse(month(date) == 5, 1, 0)) %>%\n",
    "                            mutate(month_6 = 0) %>%\n",
    "                            mutate(month_7 = 0) %>%\n",
    "                            mutate(month_8 = 0) %>%\n",
    "                            mutate(month_9 = 0) %>%\n",
    "                            mutate(month_10 = 0) %>%\n",
    "                            mutate(month_11 = 0) %>%\n",
    "                            mutate(month_12 = 0)\n",
    "\n",
    "\n",
    "ts_final_train_features = df_final_train_features %>%\n",
    "    mutate(date = as.Date(date)) %>%\n",
    "    as_tsibble(index=date, key=c(\"id\"))\n",
    "\n",
    "\n",
    "ts_final_test_features = df_final_test_features %>%\n",
    "    mutate(date = as.Date(date)) %>%\n",
    "    as_tsibble(index=date, key=c(\"id\"))\n"
   ]
  },
  {
   "cell_type": "code",
   "execution_count": 3,
   "id": "88bd0521-6dfe-41a2-b7b9-57582c9224ac",
   "metadata": {},
   "outputs": [
    {
     "data": {
      "text/html": [
       "<table class=\"dataframe\">\n",
       "<caption>A tbl_ts: 6 × 50</caption>\n",
       "<thead>\n",
       "\t<tr><th scope=col>id</th><th scope=col>wm_yr_wk</th><th scope=col>date</th><th scope=col>sales</th><th scope=col>weekday</th><th scope=col>wday</th><th scope=col>month</th><th scope=col>year</th><th scope=col>event_name_1</th><th scope=col>event_type_1</th><th scope=col>⋯</th><th scope=col>month_3</th><th scope=col>month_4</th><th scope=col>month_5</th><th scope=col>month_6</th><th scope=col>month_7</th><th scope=col>month_8</th><th scope=col>month_9</th><th scope=col>month_10</th><th scope=col>month_11</th><th scope=col>month_12</th></tr>\n",
       "\t<tr><th scope=col>&lt;chr&gt;</th><th scope=col>&lt;int&gt;</th><th scope=col>&lt;date&gt;</th><th scope=col>&lt;int&gt;</th><th scope=col>&lt;chr&gt;</th><th scope=col>&lt;int&gt;</th><th scope=col>&lt;int&gt;</th><th scope=col>&lt;int&gt;</th><th scope=col>&lt;chr&gt;</th><th scope=col>&lt;chr&gt;</th><th scope=col>⋯</th><th scope=col>&lt;int&gt;</th><th scope=col>&lt;int&gt;</th><th scope=col>&lt;int&gt;</th><th scope=col>&lt;int&gt;</th><th scope=col>&lt;int&gt;</th><th scope=col>&lt;int&gt;</th><th scope=col>&lt;int&gt;</th><th scope=col>&lt;int&gt;</th><th scope=col>&lt;int&gt;</th><th scope=col>&lt;int&gt;</th></tr>\n",
       "</thead>\n",
       "<tbody>\n",
       "\t<tr><td>FOODS_3_001</td><td>11101</td><td>2011-01-29</td><td>0</td><td>Saturday </td><td>1</td><td>1</td><td>2011</td><td>NA</td><td>NA</td><td>⋯</td><td>0</td><td>0</td><td>0</td><td>0</td><td>0</td><td>0</td><td>0</td><td>0</td><td>0</td><td>0</td></tr>\n",
       "\t<tr><td>FOODS_3_001</td><td>11101</td><td>2011-01-30</td><td>2</td><td>Sunday   </td><td>2</td><td>1</td><td>2011</td><td>NA</td><td>NA</td><td>⋯</td><td>0</td><td>0</td><td>0</td><td>0</td><td>0</td><td>0</td><td>0</td><td>0</td><td>0</td><td>0</td></tr>\n",
       "\t<tr><td>FOODS_3_001</td><td>11101</td><td>2011-01-31</td><td>1</td><td>Monday   </td><td>3</td><td>1</td><td>2011</td><td>NA</td><td>NA</td><td>⋯</td><td>0</td><td>0</td><td>0</td><td>0</td><td>0</td><td>0</td><td>0</td><td>0</td><td>0</td><td>0</td></tr>\n",
       "\t<tr><td>FOODS_3_001</td><td>11101</td><td>2011-02-01</td><td>3</td><td>Tuesday  </td><td>4</td><td>2</td><td>2011</td><td>NA</td><td>NA</td><td>⋯</td><td>0</td><td>0</td><td>0</td><td>0</td><td>0</td><td>0</td><td>0</td><td>0</td><td>0</td><td>0</td></tr>\n",
       "\t<tr><td>FOODS_3_001</td><td>11101</td><td>2011-02-02</td><td>0</td><td>Wednesday</td><td>5</td><td>2</td><td>2011</td><td>NA</td><td>NA</td><td>⋯</td><td>0</td><td>0</td><td>0</td><td>0</td><td>0</td><td>0</td><td>0</td><td>0</td><td>0</td><td>0</td></tr>\n",
       "\t<tr><td>FOODS_3_001</td><td>11101</td><td>2011-02-03</td><td>0</td><td>Thursday </td><td>6</td><td>2</td><td>2011</td><td>NA</td><td>NA</td><td>⋯</td><td>0</td><td>0</td><td>0</td><td>0</td><td>0</td><td>0</td><td>0</td><td>0</td><td>0</td><td>0</td></tr>\n",
       "</tbody>\n",
       "</table>\n"
      ],
      "text/latex": [
       "A tbl\\_ts: 6 × 50\n",
       "\\begin{tabular}{lllllllllllllllllllll}\n",
       " id & wm\\_yr\\_wk & date & sales & weekday & wday & month & year & event\\_name\\_1 & event\\_type\\_1 & ⋯ & month\\_3 & month\\_4 & month\\_5 & month\\_6 & month\\_7 & month\\_8 & month\\_9 & month\\_10 & month\\_11 & month\\_12\\\\\n",
       " <chr> & <int> & <date> & <int> & <chr> & <int> & <int> & <int> & <chr> & <chr> & ⋯ & <int> & <int> & <int> & <int> & <int> & <int> & <int> & <int> & <int> & <int>\\\\\n",
       "\\hline\n",
       "\t FOODS\\_3\\_001 & 11101 & 2011-01-29 & 0 & Saturday  & 1 & 1 & 2011 & NA & NA & ⋯ & 0 & 0 & 0 & 0 & 0 & 0 & 0 & 0 & 0 & 0\\\\\n",
       "\t FOODS\\_3\\_001 & 11101 & 2011-01-30 & 2 & Sunday    & 2 & 1 & 2011 & NA & NA & ⋯ & 0 & 0 & 0 & 0 & 0 & 0 & 0 & 0 & 0 & 0\\\\\n",
       "\t FOODS\\_3\\_001 & 11101 & 2011-01-31 & 1 & Monday    & 3 & 1 & 2011 & NA & NA & ⋯ & 0 & 0 & 0 & 0 & 0 & 0 & 0 & 0 & 0 & 0\\\\\n",
       "\t FOODS\\_3\\_001 & 11101 & 2011-02-01 & 3 & Tuesday   & 4 & 2 & 2011 & NA & NA & ⋯ & 0 & 0 & 0 & 0 & 0 & 0 & 0 & 0 & 0 & 0\\\\\n",
       "\t FOODS\\_3\\_001 & 11101 & 2011-02-02 & 0 & Wednesday & 5 & 2 & 2011 & NA & NA & ⋯ & 0 & 0 & 0 & 0 & 0 & 0 & 0 & 0 & 0 & 0\\\\\n",
       "\t FOODS\\_3\\_001 & 11101 & 2011-02-03 & 0 & Thursday  & 6 & 2 & 2011 & NA & NA & ⋯ & 0 & 0 & 0 & 0 & 0 & 0 & 0 & 0 & 0 & 0\\\\\n",
       "\\end{tabular}\n"
      ],
      "text/markdown": [
       "\n",
       "A tbl_ts: 6 × 50\n",
       "\n",
       "| id &lt;chr&gt; | wm_yr_wk &lt;int&gt; | date &lt;date&gt; | sales &lt;int&gt; | weekday &lt;chr&gt; | wday &lt;int&gt; | month &lt;int&gt; | year &lt;int&gt; | event_name_1 &lt;chr&gt; | event_type_1 &lt;chr&gt; | ⋯ ⋯ | month_3 &lt;int&gt; | month_4 &lt;int&gt; | month_5 &lt;int&gt; | month_6 &lt;int&gt; | month_7 &lt;int&gt; | month_8 &lt;int&gt; | month_9 &lt;int&gt; | month_10 &lt;int&gt; | month_11 &lt;int&gt; | month_12 &lt;int&gt; |\n",
       "|---|---|---|---|---|---|---|---|---|---|---|---|---|---|---|---|---|---|---|---|---|\n",
       "| FOODS_3_001 | 11101 | 2011-01-29 | 0 | Saturday  | 1 | 1 | 2011 | NA | NA | ⋯ | 0 | 0 | 0 | 0 | 0 | 0 | 0 | 0 | 0 | 0 |\n",
       "| FOODS_3_001 | 11101 | 2011-01-30 | 2 | Sunday    | 2 | 1 | 2011 | NA | NA | ⋯ | 0 | 0 | 0 | 0 | 0 | 0 | 0 | 0 | 0 | 0 |\n",
       "| FOODS_3_001 | 11101 | 2011-01-31 | 1 | Monday    | 3 | 1 | 2011 | NA | NA | ⋯ | 0 | 0 | 0 | 0 | 0 | 0 | 0 | 0 | 0 | 0 |\n",
       "| FOODS_3_001 | 11101 | 2011-02-01 | 3 | Tuesday   | 4 | 2 | 2011 | NA | NA | ⋯ | 0 | 0 | 0 | 0 | 0 | 0 | 0 | 0 | 0 | 0 |\n",
       "| FOODS_3_001 | 11101 | 2011-02-02 | 0 | Wednesday | 5 | 2 | 2011 | NA | NA | ⋯ | 0 | 0 | 0 | 0 | 0 | 0 | 0 | 0 | 0 | 0 |\n",
       "| FOODS_3_001 | 11101 | 2011-02-03 | 0 | Thursday  | 6 | 2 | 2011 | NA | NA | ⋯ | 0 | 0 | 0 | 0 | 0 | 0 | 0 | 0 | 0 | 0 |\n",
       "\n"
      ],
      "text/plain": [
       "  id          wm_yr_wk date       sales weekday   wday month year event_name_1\n",
       "1 FOODS_3_001 11101    2011-01-29 0     Saturday  1    1     2011 NA          \n",
       "2 FOODS_3_001 11101    2011-01-30 2     Sunday    2    1     2011 NA          \n",
       "3 FOODS_3_001 11101    2011-01-31 1     Monday    3    1     2011 NA          \n",
       "4 FOODS_3_001 11101    2011-02-01 3     Tuesday   4    2     2011 NA          \n",
       "5 FOODS_3_001 11101    2011-02-02 0     Wednesday 5    2     2011 NA          \n",
       "6 FOODS_3_001 11101    2011-02-03 0     Thursday  6    2     2011 NA          \n",
       "  event_type_1 ⋯ month_3 month_4 month_5 month_6 month_7 month_8 month_9\n",
       "1 NA           ⋯ 0       0       0       0       0       0       0      \n",
       "2 NA           ⋯ 0       0       0       0       0       0       0      \n",
       "3 NA           ⋯ 0       0       0       0       0       0       0      \n",
       "4 NA           ⋯ 0       0       0       0       0       0       0      \n",
       "5 NA           ⋯ 0       0       0       0       0       0       0      \n",
       "6 NA           ⋯ 0       0       0       0       0       0       0      \n",
       "  month_10 month_11 month_12\n",
       "1 0        0        0       \n",
       "2 0        0        0       \n",
       "3 0        0        0       \n",
       "4 0        0        0       \n",
       "5 0        0        0       \n",
       "6 0        0        0       "
      ]
     },
     "metadata": {},
     "output_type": "display_data"
    },
    {
     "data": {
      "text/html": [
       "<table class=\"dataframe\">\n",
       "<caption>A tbl_ts: 6 × 42</caption>\n",
       "<thead>\n",
       "\t<tr><th scope=col>id</th><th scope=col>date</th><th scope=col>sales</th><th scope=col>wday</th><th scope=col>month</th><th scope=col>month_day</th><th scope=col>year_day</th><th scope=col>weekend</th><th scope=col>has_event</th><th scope=col>has_two_events</th><th scope=col>⋯</th><th scope=col>month_3</th><th scope=col>month_4</th><th scope=col>month_5</th><th scope=col>month_6</th><th scope=col>month_7</th><th scope=col>month_8</th><th scope=col>month_9</th><th scope=col>month_10</th><th scope=col>month_11</th><th scope=col>month_12</th></tr>\n",
       "\t<tr><th scope=col>&lt;chr&gt;</th><th scope=col>&lt;date&gt;</th><th scope=col>&lt;int&gt;</th><th scope=col>&lt;int&gt;</th><th scope=col>&lt;int&gt;</th><th scope=col>&lt;int&gt;</th><th scope=col>&lt;int&gt;</th><th scope=col>&lt;lgl&gt;</th><th scope=col>&lt;lgl&gt;</th><th scope=col>&lt;lgl&gt;</th><th scope=col>⋯</th><th scope=col>&lt;dbl&gt;</th><th scope=col>&lt;dbl&gt;</th><th scope=col>&lt;dbl&gt;</th><th scope=col>&lt;dbl&gt;</th><th scope=col>&lt;dbl&gt;</th><th scope=col>&lt;dbl&gt;</th><th scope=col>&lt;dbl&gt;</th><th scope=col>&lt;dbl&gt;</th><th scope=col>&lt;dbl&gt;</th><th scope=col>&lt;dbl&gt;</th></tr>\n",
       "</thead>\n",
       "<tbody>\n",
       "\t<tr><td>FOODS_3_001</td><td>2016-04-25</td><td>1</td><td>3</td><td>4</td><td>25</td><td>116</td><td>FALSE</td><td>FALSE</td><td>FALSE</td><td>⋯</td><td>0</td><td>1</td><td>0</td><td>0</td><td>0</td><td>0</td><td>0</td><td>0</td><td>0</td><td>0</td></tr>\n",
       "\t<tr><td>FOODS_3_001</td><td>2016-04-26</td><td>0</td><td>4</td><td>4</td><td>26</td><td>117</td><td>FALSE</td><td>FALSE</td><td>FALSE</td><td>⋯</td><td>0</td><td>1</td><td>0</td><td>0</td><td>0</td><td>0</td><td>0</td><td>0</td><td>0</td><td>0</td></tr>\n",
       "\t<tr><td>FOODS_3_001</td><td>2016-04-27</td><td>0</td><td>5</td><td>4</td><td>27</td><td>118</td><td>FALSE</td><td>FALSE</td><td>FALSE</td><td>⋯</td><td>0</td><td>1</td><td>0</td><td>0</td><td>0</td><td>0</td><td>0</td><td>0</td><td>0</td><td>0</td></tr>\n",
       "\t<tr><td>FOODS_3_001</td><td>2016-04-28</td><td>1</td><td>6</td><td>4</td><td>28</td><td>119</td><td>FALSE</td><td>FALSE</td><td>FALSE</td><td>⋯</td><td>0</td><td>1</td><td>0</td><td>0</td><td>0</td><td>0</td><td>0</td><td>0</td><td>0</td><td>0</td></tr>\n",
       "\t<tr><td>FOODS_3_001</td><td>2016-04-29</td><td>0</td><td>7</td><td>4</td><td>29</td><td>120</td><td>FALSE</td><td>FALSE</td><td>FALSE</td><td>⋯</td><td>0</td><td>1</td><td>0</td><td>0</td><td>0</td><td>0</td><td>0</td><td>0</td><td>0</td><td>0</td></tr>\n",
       "\t<tr><td>FOODS_3_001</td><td>2016-04-30</td><td>1</td><td>1</td><td>4</td><td>30</td><td>121</td><td> TRUE</td><td> TRUE</td><td>FALSE</td><td>⋯</td><td>0</td><td>1</td><td>0</td><td>0</td><td>0</td><td>0</td><td>0</td><td>0</td><td>0</td><td>0</td></tr>\n",
       "</tbody>\n",
       "</table>\n"
      ],
      "text/latex": [
       "A tbl\\_ts: 6 × 42\n",
       "\\begin{tabular}{lllllllllllllllllllll}\n",
       " id & date & sales & wday & month & month\\_day & year\\_day & weekend & has\\_event & has\\_two\\_events & ⋯ & month\\_3 & month\\_4 & month\\_5 & month\\_6 & month\\_7 & month\\_8 & month\\_9 & month\\_10 & month\\_11 & month\\_12\\\\\n",
       " <chr> & <date> & <int> & <int> & <int> & <int> & <int> & <lgl> & <lgl> & <lgl> & ⋯ & <dbl> & <dbl> & <dbl> & <dbl> & <dbl> & <dbl> & <dbl> & <dbl> & <dbl> & <dbl>\\\\\n",
       "\\hline\n",
       "\t FOODS\\_3\\_001 & 2016-04-25 & 1 & 3 & 4 & 25 & 116 & FALSE & FALSE & FALSE & ⋯ & 0 & 1 & 0 & 0 & 0 & 0 & 0 & 0 & 0 & 0\\\\\n",
       "\t FOODS\\_3\\_001 & 2016-04-26 & 0 & 4 & 4 & 26 & 117 & FALSE & FALSE & FALSE & ⋯ & 0 & 1 & 0 & 0 & 0 & 0 & 0 & 0 & 0 & 0\\\\\n",
       "\t FOODS\\_3\\_001 & 2016-04-27 & 0 & 5 & 4 & 27 & 118 & FALSE & FALSE & FALSE & ⋯ & 0 & 1 & 0 & 0 & 0 & 0 & 0 & 0 & 0 & 0\\\\\n",
       "\t FOODS\\_3\\_001 & 2016-04-28 & 1 & 6 & 4 & 28 & 119 & FALSE & FALSE & FALSE & ⋯ & 0 & 1 & 0 & 0 & 0 & 0 & 0 & 0 & 0 & 0\\\\\n",
       "\t FOODS\\_3\\_001 & 2016-04-29 & 0 & 7 & 4 & 29 & 120 & FALSE & FALSE & FALSE & ⋯ & 0 & 1 & 0 & 0 & 0 & 0 & 0 & 0 & 0 & 0\\\\\n",
       "\t FOODS\\_3\\_001 & 2016-04-30 & 1 & 1 & 4 & 30 & 121 &  TRUE &  TRUE & FALSE & ⋯ & 0 & 1 & 0 & 0 & 0 & 0 & 0 & 0 & 0 & 0\\\\\n",
       "\\end{tabular}\n"
      ],
      "text/markdown": [
       "\n",
       "A tbl_ts: 6 × 42\n",
       "\n",
       "| id &lt;chr&gt; | date &lt;date&gt; | sales &lt;int&gt; | wday &lt;int&gt; | month &lt;int&gt; | month_day &lt;int&gt; | year_day &lt;int&gt; | weekend &lt;lgl&gt; | has_event &lt;lgl&gt; | has_two_events &lt;lgl&gt; | ⋯ ⋯ | month_3 &lt;dbl&gt; | month_4 &lt;dbl&gt; | month_5 &lt;dbl&gt; | month_6 &lt;dbl&gt; | month_7 &lt;dbl&gt; | month_8 &lt;dbl&gt; | month_9 &lt;dbl&gt; | month_10 &lt;dbl&gt; | month_11 &lt;dbl&gt; | month_12 &lt;dbl&gt; |\n",
       "|---|---|---|---|---|---|---|---|---|---|---|---|---|---|---|---|---|---|---|---|---|\n",
       "| FOODS_3_001 | 2016-04-25 | 1 | 3 | 4 | 25 | 116 | FALSE | FALSE | FALSE | ⋯ | 0 | 1 | 0 | 0 | 0 | 0 | 0 | 0 | 0 | 0 |\n",
       "| FOODS_3_001 | 2016-04-26 | 0 | 4 | 4 | 26 | 117 | FALSE | FALSE | FALSE | ⋯ | 0 | 1 | 0 | 0 | 0 | 0 | 0 | 0 | 0 | 0 |\n",
       "| FOODS_3_001 | 2016-04-27 | 0 | 5 | 4 | 27 | 118 | FALSE | FALSE | FALSE | ⋯ | 0 | 1 | 0 | 0 | 0 | 0 | 0 | 0 | 0 | 0 |\n",
       "| FOODS_3_001 | 2016-04-28 | 1 | 6 | 4 | 28 | 119 | FALSE | FALSE | FALSE | ⋯ | 0 | 1 | 0 | 0 | 0 | 0 | 0 | 0 | 0 | 0 |\n",
       "| FOODS_3_001 | 2016-04-29 | 0 | 7 | 4 | 29 | 120 | FALSE | FALSE | FALSE | ⋯ | 0 | 1 | 0 | 0 | 0 | 0 | 0 | 0 | 0 | 0 |\n",
       "| FOODS_3_001 | 2016-04-30 | 1 | 1 | 4 | 30 | 121 |  TRUE |  TRUE | FALSE | ⋯ | 0 | 1 | 0 | 0 | 0 | 0 | 0 | 0 | 0 | 0 |\n",
       "\n"
      ],
      "text/plain": [
       "  id          date       sales wday month month_day year_day weekend has_event\n",
       "1 FOODS_3_001 2016-04-25 1     3    4     25        116      FALSE   FALSE    \n",
       "2 FOODS_3_001 2016-04-26 0     4    4     26        117      FALSE   FALSE    \n",
       "3 FOODS_3_001 2016-04-27 0     5    4     27        118      FALSE   FALSE    \n",
       "4 FOODS_3_001 2016-04-28 1     6    4     28        119      FALSE   FALSE    \n",
       "5 FOODS_3_001 2016-04-29 0     7    4     29        120      FALSE   FALSE    \n",
       "6 FOODS_3_001 2016-04-30 1     1    4     30        121       TRUE    TRUE    \n",
       "  has_two_events ⋯ month_3 month_4 month_5 month_6 month_7 month_8 month_9\n",
       "1 FALSE          ⋯ 0       1       0       0       0       0       0      \n",
       "2 FALSE          ⋯ 0       1       0       0       0       0       0      \n",
       "3 FALSE          ⋯ 0       1       0       0       0       0       0      \n",
       "4 FALSE          ⋯ 0       1       0       0       0       0       0      \n",
       "5 FALSE          ⋯ 0       1       0       0       0       0       0      \n",
       "6 FALSE          ⋯ 0       1       0       0       0       0       0      \n",
       "  month_10 month_11 month_12\n",
       "1 0        0        0       \n",
       "2 0        0        0       \n",
       "3 0        0        0       \n",
       "4 0        0        0       \n",
       "5 0        0        0       \n",
       "6 0        0        0       "
      ]
     },
     "metadata": {},
     "output_type": "display_data"
    }
   ],
   "source": [
    "head(ts_final_train_features)\n",
    "head(ts_final_test_features)"
   ]
  },
  {
   "cell_type": "markdown",
   "id": "692187bc-1677-42dc-a233-f7a0cd1415cc",
   "metadata": {
    "jp-MarkdownHeadingCollapsed": true,
    "tags": []
   },
   "source": [
    "## HC Clustering Experiments"
   ]
  },
  {
   "cell_type": "code",
   "execution_count": 4,
   "id": "b888632f-cdce-4731-9db9-b6efbc264158",
   "metadata": {},
   "outputs": [
    {
     "data": {
      "text/html": [
       "<table class=\"dataframe\">\n",
       "<caption>A tibble: 6 × 2</caption>\n",
       "<thead>\n",
       "\t<tr><th scope=col>cluster</th><th scope=col>n</th></tr>\n",
       "\t<tr><th scope=col>&lt;fct&gt;</th><th scope=col>&lt;int&gt;</th></tr>\n",
       "</thead>\n",
       "<tbody>\n",
       "\t<tr><td>1</td><td>135</td></tr>\n",
       "\t<tr><td>2</td><td>121</td></tr>\n",
       "\t<tr><td>3</td><td>277</td></tr>\n",
       "\t<tr><td>4</td><td>262</td></tr>\n",
       "\t<tr><td>5</td><td> 11</td></tr>\n",
       "\t<tr><td>6</td><td> 17</td></tr>\n",
       "</tbody>\n",
       "</table>\n"
      ],
      "text/latex": [
       "A tibble: 6 × 2\n",
       "\\begin{tabular}{ll}\n",
       " cluster & n\\\\\n",
       " <fct> & <int>\\\\\n",
       "\\hline\n",
       "\t 1 & 135\\\\\n",
       "\t 2 & 121\\\\\n",
       "\t 3 & 277\\\\\n",
       "\t 4 & 262\\\\\n",
       "\t 5 &  11\\\\\n",
       "\t 6 &  17\\\\\n",
       "\\end{tabular}\n"
      ],
      "text/markdown": [
       "\n",
       "A tibble: 6 × 2\n",
       "\n",
       "| cluster &lt;fct&gt; | n &lt;int&gt; |\n",
       "|---|---|\n",
       "| 1 | 135 |\n",
       "| 2 | 121 |\n",
       "| 3 | 277 |\n",
       "| 4 | 262 |\n",
       "| 5 |  11 |\n",
       "| 6 |  17 |\n",
       "\n"
      ],
      "text/plain": [
       "  cluster n  \n",
       "1 1       135\n",
       "2 2       121\n",
       "3 3       277\n",
       "4 4       262\n",
       "5 5        11\n",
       "6 6        17"
      ]
     },
     "metadata": {},
     "output_type": "display_data"
    }
   ],
   "source": [
    "df_final_train_features %>%\n",
    "   group_by(cluster)  %>%\n",
    "   select(cluster,id) %>% \n",
    "   unique() %>% \n",
    "   summarize(n = n())"
   ]
  },
  {
   "cell_type": "code",
   "execution_count": 5,
   "id": "9da7f6bc-9841-46e1-bf8f-bac64533aede",
   "metadata": {},
   "outputs": [],
   "source": [
    "num_samples_per_cluster = 5\n",
    "\n",
    "# select two samples from each cluster\n",
    "df_final_train_features_mix = df_final_train_features %>%\n",
    "    group_by(cluster)  %>%\n",
    "    select(cluster,id) %>% \n",
    "    unique() %>% \n",
    "    arrange(cluster) %>% \n",
    "    sample_n(num_samples_per_cluster) "
   ]
  },
  {
   "cell_type": "markdown",
   "id": "fc162c8a-4d95-4942-a2c8-173e1ce400b2",
   "metadata": {
    "jp-MarkdownHeadingCollapsed": true,
    "tags": []
   },
   "source": [
    "### General Model Training based on aggregated results"
   ]
  },
  {
   "cell_type": "code",
   "execution_count": 6,
   "id": "b619ec83-e88f-4510-9262-abc5350df1ea",
   "metadata": {},
   "outputs": [],
   "source": [
    "plan(\"future::multisession\") \n",
    "\n",
    "# train on selected samples 2x6\n",
    "df_final_train_features_aggregated = df_final_train_features %>%\n",
    "    filter(id %in% df_final_train_features_mix$id) %>%\n",
    "    group_by(date) %>%\n",
    "    summarize(sales = mean(sales), \n",
    "              weekend = first(weekend), \n",
    "              has_event_near = first(has_event_near), \n",
    "              has_two_events = first(has_two_events), \n",
    "              snap_TX=first(snap_TX),\n",
    "              month_2=first(month_2),\n",
    "              month_3=first(month_3),\n",
    "              month_4=first(month_4),\n",
    "              month_5=first(month_5),\n",
    "              month_6=first(month_6),\n",
    "              month_7=first(month_7),\n",
    "              month_8=first(month_8),\n",
    "              month_9=first(month_9),\n",
    "              month_10=first(month_10),\n",
    "              month_11=first(month_11),\n",
    "              month_12=first(month_12),\n",
    "             )\n",
    "\n",
    "ts_final_train_features_aggregated = df_final_train_features_aggregated %>%\n",
    "    mutate(date = as.Date(date)) %>%\n",
    "    as_tsibble(index=date)\n",
    "\n",
    "arima_fit <- ts_final_train_features_aggregated %>%\n",
    "  model(\n",
    "    auto = ARIMA(sales ~ fourier(K=1) + has_event_near + has_two_events + snap_TX + month_2 + month_3 + month_4 + month_5 + month_6 + month_7+ month_8+ month_9+ month_10+ month_11 + month_12, stepwise = TRUE, approx = TRUE)\n",
    "  )"
   ]
  },
  {
   "cell_type": "markdown",
   "id": "ffd6f107-c540-49d4-bc36-f1ff31f02592",
   "metadata": {
    "jp-MarkdownHeadingCollapsed": true,
    "tags": []
   },
   "source": [
    "### Test for individual points by using the general model"
   ]
  },
  {
   "cell_type": "code",
   "execution_count": 7,
   "id": "2a0353ab-fbb4-4628-b993-f08b54b893f3",
   "metadata": {},
   "outputs": [
    {
     "data": {
      "text/html": [
       "<style>\n",
       ".list-inline {list-style: none; margin:0; padding: 0}\n",
       ".list-inline>li {display: inline-block}\n",
       ".list-inline>li:not(:last-child)::after {content: \"\\00b7\"; padding: 0 .5ex}\n",
       "</style>\n",
       "<ol class=list-inline><li>2.03307979106237</li><li>1.64593499394094</li><li>1.53855153110864</li><li>1.50818158450665</li><li>1.56851752319156</li><li>1.55183793188845</li><li>1.79689140727754</li><li>2.97819585036335</li><li>2.3987000438412</li><li>2.36579642011269</li><li>3.83595526528352</li><li>1.61079737204472</li><li>1.77918295490777</li><li>1.49241182079391</li><li>1.63947587007332</li><li>1.71844085453789</li><li>4.83012500198292</li><li>1.34247662986415</li><li>1.702877637802</li><li>1.96110333848294</li><li>3.36436373188467</li><li>8.38540896121538</li><li>7.19940598532399</li><li>8.92431354692766</li><li>7.26174850589022</li><li>2.03307979106237</li><li>1.98496545552895</li><li>3.26112511491896</li><li>1.24634259075187</li><li>1.61257775904725</li></ol>\n"
      ],
      "text/latex": [
       "\\begin{enumerate*}\n",
       "\\item 2.03307979106237\n",
       "\\item 1.64593499394094\n",
       "\\item 1.53855153110864\n",
       "\\item 1.50818158450665\n",
       "\\item 1.56851752319156\n",
       "\\item 1.55183793188845\n",
       "\\item 1.79689140727754\n",
       "\\item 2.97819585036335\n",
       "\\item 2.3987000438412\n",
       "\\item 2.36579642011269\n",
       "\\item 3.83595526528352\n",
       "\\item 1.61079737204472\n",
       "\\item 1.77918295490777\n",
       "\\item 1.49241182079391\n",
       "\\item 1.63947587007332\n",
       "\\item 1.71844085453789\n",
       "\\item 4.83012500198292\n",
       "\\item 1.34247662986415\n",
       "\\item 1.702877637802\n",
       "\\item 1.96110333848294\n",
       "\\item 3.36436373188467\n",
       "\\item 8.38540896121538\n",
       "\\item 7.19940598532399\n",
       "\\item 8.92431354692766\n",
       "\\item 7.26174850589022\n",
       "\\item 2.03307979106237\n",
       "\\item 1.98496545552895\n",
       "\\item 3.26112511491896\n",
       "\\item 1.24634259075187\n",
       "\\item 1.61257775904725\n",
       "\\end{enumerate*}\n"
      ],
      "text/markdown": [
       "1. 2.03307979106237\n",
       "2. 1.64593499394094\n",
       "3. 1.53855153110864\n",
       "4. 1.50818158450665\n",
       "5. 1.56851752319156\n",
       "6. 1.55183793188845\n",
       "7. 1.79689140727754\n",
       "8. 2.97819585036335\n",
       "9. 2.3987000438412\n",
       "10. 2.36579642011269\n",
       "11. 3.83595526528352\n",
       "12. 1.61079737204472\n",
       "13. 1.77918295490777\n",
       "14. 1.49241182079391\n",
       "15. 1.63947587007332\n",
       "16. 1.71844085453789\n",
       "17. 4.83012500198292\n",
       "18. 1.34247662986415\n",
       "19. 1.702877637802\n",
       "20. 1.96110333848294\n",
       "21. 3.36436373188467\n",
       "22. 8.38540896121538\n",
       "23. 7.19940598532399\n",
       "24. 8.92431354692766\n",
       "25. 7.26174850589022\n",
       "26. 2.03307979106237\n",
       "27. 1.98496545552895\n",
       "28. 3.26112511491896\n",
       "29. 1.24634259075187\n",
       "30. 1.61257775904725\n",
       "\n",
       "\n"
      ],
      "text/plain": [
       " [1] 2.033080 1.645935 1.538552 1.508182 1.568518 1.551838 1.796891 2.978196\n",
       " [9] 2.398700 2.365796 3.835955 1.610797 1.779183 1.492412 1.639476 1.718441\n",
       "[17] 4.830125 1.342477 1.702878 1.961103 3.364364 8.385409 7.199406 8.924314\n",
       "[25] 7.261749 2.033080 1.984965 3.261125 1.246343 1.612578"
      ]
     },
     "metadata": {},
     "output_type": "display_data"
    },
    {
     "data": {
      "text/html": [
       "2.88572884218726"
      ],
      "text/latex": [
       "2.88572884218726"
      ],
      "text/markdown": [
       "2.88572884218726"
      ],
      "text/plain": [
       "[1] 2.885729"
      ]
     },
     "metadata": {},
     "output_type": "display_data"
    }
   ],
   "source": [
    "plan(\"future::multisession\") \n",
    "\n",
    "df_final_test_features_aggregated = df_final_test_features %>%\n",
    "    filter(id %in% df_final_train_features_mix$id) %>%\n",
    "    group_by(date, id) %>%\n",
    "    summarize(sales = mean(sales), \n",
    "              weekend = first(weekend), \n",
    "              has_event_near = first(has_event_near), \n",
    "              has_two_events = first(has_two_events), \n",
    "              snap_TX=first(snap_TX),\n",
    "              month_2=first(month_2),\n",
    "              month_3=first(month_3),\n",
    "              month_4=first(month_4),\n",
    "              month_5=first(month_5),\n",
    "              month_6=first(month_6),\n",
    "              month_7=first(month_7),\n",
    "              month_8=first(month_8),\n",
    "              month_9=first(month_9),\n",
    "              month_10=first(month_10),\n",
    "              month_11=first(month_11),\n",
    "              month_12=first(month_12),\n",
    "              .groups = \"drop\"\n",
    "             )\n",
    "\n",
    "ts_final_test_features_aggregated = df_final_test_features_aggregated %>%\n",
    "        mutate(date = as.Date(date)) %>%\n",
    "        as_tsibble(index=date, key=c(\"id\"))\n",
    "\n",
    "accuracy_arima_list = c()\n",
    "for (product_id in df_final_train_features_mix$id) {\n",
    "    \n",
    "    ts_final_test_features_aggregated_product = ts_final_test_features_aggregated %>%\n",
    "        filter(id == product_id) %>%\n",
    "        select(-id) %>%\n",
    "        select(date, sales:month_12) %>% ungroup()\n",
    "    arima_fc = arima_fit %>% forecast(ts_final_test_features_aggregated_product)\n",
    "    accuracy_arima = accuracy(arima_fc, ts_final_test_features_aggregated_product)\n",
    "    accuracy_arima_list = append(accuracy_arima_list, accuracy_arima$RMSE)\n",
    "}\n",
    "accuracy_arima_list\n",
    "mean_accuracy_arima_without_hc = accuracy_arima_list %>% mean()\n",
    "mean_accuracy_arima_without_hc"
   ]
  },
  {
   "cell_type": "markdown",
   "id": "2db6e83f-cc5f-4f0c-8574-189fbea6326a",
   "metadata": {
    "jp-MarkdownHeadingCollapsed": true,
    "tags": []
   },
   "source": [
    "### Cluster-based General Model Training"
   ]
  },
  {
   "cell_type": "code",
   "execution_count": 8,
   "id": "c8a32a33-25d9-4f70-8620-e541a7d0811a",
   "metadata": {},
   "outputs": [],
   "source": [
    "plan(\"future::multisession\") \n",
    "\n",
    "df_final_train_features_aggregated = df_final_train_features %>%\n",
    "    filter(id %in% df_final_train_features_mix$id) %>%\n",
    "    group_by(date,cluster) %>%\n",
    "    summarize(sales = mean(sales), weekend = first(weekend), \n",
    "              has_event_near = first(has_event_near), \n",
    "              has_two_events = first(has_two_events), \n",
    "              snap_TX=first(snap_TX),\n",
    "              month_2=first(month_2),\n",
    "              month_3=first(month_3),\n",
    "              month_4=first(month_4),\n",
    "              month_5=first(month_5),\n",
    "              month_6=first(month_6),\n",
    "              month_7=first(month_7),\n",
    "              month_8=first(month_8),\n",
    "              month_9=first(month_9),\n",
    "              month_10=first(month_10),\n",
    "              month_11=first(month_11),\n",
    "              month_12=first(month_12),\n",
    "              .groups=\"drop\"\n",
    "             )\n",
    "\n",
    "ts_final_train_features_aggregated = df_final_train_features_aggregated %>%\n",
    "    mutate(date = as.Date(date)) %>%\n",
    "    as_tsibble(index=date, key=c(\"cluster\"))\n",
    "\n",
    "arima_fit <- ts_final_train_features_aggregated %>%\n",
    "  model(\n",
    "    auto = ARIMA(sales ~ fourier(K=1) + has_event_near + has_two_events + snap_TX + month_2 + month_3 + month_4 + month_5 + month_6 + month_7+ month_8+ month_9+ month_10+ month_11 + month_12, stepwise = TRUE, approx = TRUE)\n",
    "  )"
   ]
  },
  {
   "cell_type": "markdown",
   "id": "7da829ed-ff67-4393-8030-36398f56f3e6",
   "metadata": {
    "jp-MarkdownHeadingCollapsed": true,
    "tags": []
   },
   "source": [
    "### Test for individual points by using the cluster-based general model"
   ]
  },
  {
   "cell_type": "code",
   "execution_count": 9,
   "id": "ae6ee6c9-c521-4bde-b859-f117ba03f443",
   "metadata": {},
   "outputs": [
    {
     "data": {
      "text/html": [
       "<style>\n",
       ".list-inline {list-style: none; margin:0; padding: 0}\n",
       ".list-inline>li {display: inline-block}\n",
       ".list-inline>li:not(:last-child)::after {content: \"\\00b7\"; padding: 0 .5ex}\n",
       "</style>\n",
       "<ol class=list-inline><li>0.445625841051851</li><li>0.732382735689417</li><li>1.07465051135731</li><li>1.06656212279636</li><li>1.22892039410773</li><li>0.813451901283266</li><li>2.25413726769114</li><li>3.40394420421083</li><li>2.78856034732498</li><li>2.30635266162008</li><li>4.29978189413892</li><li>1.29659847349588</li><li>1.16399396625126</li><li>1.41087549109565</li><li>1.39688147443785</li><li>1.52383484456161</li><li>5.01529477548864</li><li>1.16931284417039</li><li>1.46213701539821</li><li>1.73371886850734</li><li>6.32585806049376</li><li>8.41949539062716</li><li>5.83543905216702</li><li>6.73026406005424</li><li>6.62349332239517</li><li>0.6520267731831</li><li>0.634737879579043</li><li>3.75990862594475</li><li>1.28689232835397</li><li>0.669761741292018</li></ol>\n"
      ],
      "text/latex": [
       "\\begin{enumerate*}\n",
       "\\item 0.445625841051851\n",
       "\\item 0.732382735689417\n",
       "\\item 1.07465051135731\n",
       "\\item 1.06656212279636\n",
       "\\item 1.22892039410773\n",
       "\\item 0.813451901283266\n",
       "\\item 2.25413726769114\n",
       "\\item 3.40394420421083\n",
       "\\item 2.78856034732498\n",
       "\\item 2.30635266162008\n",
       "\\item 4.29978189413892\n",
       "\\item 1.29659847349588\n",
       "\\item 1.16399396625126\n",
       "\\item 1.41087549109565\n",
       "\\item 1.39688147443785\n",
       "\\item 1.52383484456161\n",
       "\\item 5.01529477548864\n",
       "\\item 1.16931284417039\n",
       "\\item 1.46213701539821\n",
       "\\item 1.73371886850734\n",
       "\\item 6.32585806049376\n",
       "\\item 8.41949539062716\n",
       "\\item 5.83543905216702\n",
       "\\item 6.73026406005424\n",
       "\\item 6.62349332239517\n",
       "\\item 0.6520267731831\n",
       "\\item 0.634737879579043\n",
       "\\item 3.75990862594475\n",
       "\\item 1.28689232835397\n",
       "\\item 0.669761741292018\n",
       "\\end{enumerate*}\n"
      ],
      "text/markdown": [
       "1. 0.445625841051851\n",
       "2. 0.732382735689417\n",
       "3. 1.07465051135731\n",
       "4. 1.06656212279636\n",
       "5. 1.22892039410773\n",
       "6. 0.813451901283266\n",
       "7. 2.25413726769114\n",
       "8. 3.40394420421083\n",
       "9. 2.78856034732498\n",
       "10. 2.30635266162008\n",
       "11. 4.29978189413892\n",
       "12. 1.29659847349588\n",
       "13. 1.16399396625126\n",
       "14. 1.41087549109565\n",
       "15. 1.39688147443785\n",
       "16. 1.52383484456161\n",
       "17. 5.01529477548864\n",
       "18. 1.16931284417039\n",
       "19. 1.46213701539821\n",
       "20. 1.73371886850734\n",
       "21. 6.32585806049376\n",
       "22. 8.41949539062716\n",
       "23. 5.83543905216702\n",
       "24. 6.73026406005424\n",
       "25. 6.62349332239517\n",
       "26. 0.6520267731831\n",
       "27. 0.634737879579043\n",
       "28. 3.75990862594475\n",
       "29. 1.28689232835397\n",
       "30. 0.669761741292018\n",
       "\n",
       "\n"
      ],
      "text/plain": [
       " [1] 0.4456258 0.7323827 1.0746505 1.0665621 1.2289204 0.8134519 2.2541373\n",
       " [8] 3.4039442 2.7885603 2.3063527 4.2997819 1.2965985 1.1639940 1.4108755\n",
       "[15] 1.3968815 1.5238348 5.0152948 1.1693128 1.4621370 1.7337189 6.3258581\n",
       "[22] 8.4194954 5.8354391 6.7302641 6.6234933 0.6520268 0.6347379 3.7599086\n",
       "[29] 1.2868923 0.6697617"
      ]
     },
     "metadata": {},
     "output_type": "display_data"
    },
    {
     "data": {
      "text/html": [
       "2.5841631622923"
      ],
      "text/latex": [
       "2.5841631622923"
      ],
      "text/markdown": [
       "2.5841631622923"
      ],
      "text/plain": [
       "[1] 2.584163"
      ]
     },
     "metadata": {},
     "output_type": "display_data"
    }
   ],
   "source": [
    "plan(\"future::multisession\") \n",
    "\n",
    "\n",
    "df_final_test_features_aggregated = df_final_test_features %>%\n",
    "    filter(id %in% df_final_train_features_mix$id) %>%\n",
    "    group_by(date, cluster, id) %>%\n",
    "    summarize(sales = mean(sales),\n",
    "              weekend = first(weekend),\n",
    "              has_event_near = first(has_event_near),\n",
    "              has_two_events = first(has_two_events),\n",
    "              snap_TX=first(snap_TX),\n",
    "              month_2=first(month_2),\n",
    "              month_3=first(month_3),\n",
    "              month_4=first(month_4),\n",
    "              month_5=first(month_5),\n",
    "              month_6=first(month_6),\n",
    "              month_7=first(month_7),\n",
    "              month_8=first(month_8),\n",
    "              month_9=first(month_9),\n",
    "              month_10=first(month_10),\n",
    "              month_11=first(month_11),\n",
    "              month_12=first(month_12),\n",
    "              .groups = \"drop\"\n",
    "             )\n",
    "\n",
    "ts_final_test_features_aggregated = df_final_test_features_aggregated %>%\n",
    "        mutate(date = as.Date(date)) %>%\n",
    "        as_tsibble(index=date, key=c(\"cluster\",\"id\"))\n",
    "\n",
    "accuracy_arima_list = c()\n",
    "\n",
    "for (product_id in df_final_train_features_mix$id) {\n",
    "    ts_final_test_features_aggregated_product = ts_final_test_features_aggregated %>%\n",
    "        filter(id == product_id) %>%\n",
    "        select(-id) %>%\n",
    "        select(date, cluster, sales:month_12) %>% ungroup()\n",
    "    cluster_num = unique(ts_final_test_features_aggregated_product$cluster)\n",
    "    arima_fc = arima_fit %>% \n",
    "                filter(cluster == cluster_num) %>% \n",
    "                forecast(ts_final_test_features_aggregated_product)\n",
    "    accuracy_arima = accuracy(arima_fc, ts_final_test_features_aggregated_product)\n",
    "    accuracy_arima_list = append(accuracy_arima_list, accuracy_arima$RMSE)\n",
    "}\n",
    "\n",
    "accuracy_arima_list\n",
    "mean_accuracy_arima_hc = accuracy_arima_list %>% mean()\n",
    "mean_accuracy_arima_hc"
   ]
  },
  {
   "cell_type": "markdown",
   "id": "84597b26-dd9b-4dc0-b57a-2d44a9cb53ae",
   "metadata": {
    "tags": []
   },
   "source": [
    "## GMM Clustering Experiments"
   ]
  },
  {
   "cell_type": "code",
   "execution_count": 10,
   "id": "2b4d3ecc-b3ab-4e6c-8557-26064b782ff0",
   "metadata": {},
   "outputs": [
    {
     "data": {
      "text/html": [
       "<table class=\"dataframe\">\n",
       "<caption>A tibble: 5 × 2</caption>\n",
       "<thead>\n",
       "\t<tr><th scope=col>cluster_gmm</th><th scope=col>n</th></tr>\n",
       "\t<tr><th scope=col>&lt;int&gt;</th><th scope=col>&lt;int&gt;</th></tr>\n",
       "</thead>\n",
       "<tbody>\n",
       "\t<tr><td>1</td><td>510</td></tr>\n",
       "\t<tr><td>2</td><td> 52</td></tr>\n",
       "\t<tr><td>3</td><td>126</td></tr>\n",
       "\t<tr><td>4</td><td> 87</td></tr>\n",
       "\t<tr><td>5</td><td> 48</td></tr>\n",
       "</tbody>\n",
       "</table>\n"
      ],
      "text/latex": [
       "A tibble: 5 × 2\n",
       "\\begin{tabular}{ll}\n",
       " cluster\\_gmm & n\\\\\n",
       " <int> & <int>\\\\\n",
       "\\hline\n",
       "\t 1 & 510\\\\\n",
       "\t 2 &  52\\\\\n",
       "\t 3 & 126\\\\\n",
       "\t 4 &  87\\\\\n",
       "\t 5 &  48\\\\\n",
       "\\end{tabular}\n"
      ],
      "text/markdown": [
       "\n",
       "A tibble: 5 × 2\n",
       "\n",
       "| cluster_gmm &lt;int&gt; | n &lt;int&gt; |\n",
       "|---|---|\n",
       "| 1 | 510 |\n",
       "| 2 |  52 |\n",
       "| 3 | 126 |\n",
       "| 4 |  87 |\n",
       "| 5 |  48 |\n",
       "\n"
      ],
      "text/plain": [
       "  cluster_gmm n  \n",
       "1 1           510\n",
       "2 2            52\n",
       "3 3           126\n",
       "4 4            87\n",
       "5 5            48"
      ]
     },
     "metadata": {},
     "output_type": "display_data"
    }
   ],
   "source": [
    "df_final_train_features %>%\n",
    "   group_by(cluster_gmm)  %>%\n",
    "   select(cluster_gmm,id) %>% \n",
    "   unique() %>% \n",
    "   summarize(n = n())"
   ]
  },
  {
   "cell_type": "code",
   "execution_count": 11,
   "id": "9d0b62fe-4ec4-4937-b885-779bdc06cd23",
   "metadata": {},
   "outputs": [],
   "source": [
    "num_samples_per_cluster = 5\n",
    "\n",
    "df_final_train_features_mix = df_final_train_features %>%\n",
    "    group_by(cluster_gmm)  %>%\n",
    "    select(cluster_gmm,id) %>% \n",
    "    unique() %>% \n",
    "    arrange(cluster_gmm) %>% \n",
    "    sample_n(num_samples_per_cluster) \n"
   ]
  },
  {
   "cell_type": "markdown",
   "id": "b33d0b8a-c887-47c8-a9a3-8099238cea5e",
   "metadata": {
    "jp-MarkdownHeadingCollapsed": true,
    "tags": []
   },
   "source": [
    "### General Model Training"
   ]
  },
  {
   "cell_type": "code",
   "execution_count": null,
   "id": "c406ea79-f10f-4001-a63c-710461d6681a",
   "metadata": {},
   "outputs": [],
   "source": [
    "plan(\"future::multisession\") \n",
    "\n",
    "# train on selected samples 2x6\n",
    "df_final_train_features_aggregated = df_final_train_features %>%\n",
    "    filter(id %in% df_final_train_features_mix$id) %>%\n",
    "    group_by(date) %>%\n",
    "    summarize(sales = mean(sales), \n",
    "              weekend = first(weekend), \n",
    "              has_event_near = first(has_event_near), \n",
    "              has_two_events = first(has_two_events), \n",
    "              snap_TX=first(snap_TX),\n",
    "              month_2=first(month_2),\n",
    "              month_3=first(month_3),\n",
    "              month_4=first(month_4),\n",
    "              month_5=first(month_5),\n",
    "              month_6=first(month_6),\n",
    "              month_7=first(month_7),\n",
    "              month_8=first(month_8),\n",
    "              month_9=first(month_9),\n",
    "              month_10=first(month_10),\n",
    "              month_11=first(month_11),\n",
    "              month_12=first(month_12),\n",
    "             )\n",
    "\n",
    "ts_final_train_features_aggregated = df_final_train_features_aggregated %>%\n",
    "    mutate(date = as.Date(date)) %>%\n",
    "    as_tsibble(index=date)\n",
    "\n",
    "arima_fit <- ts_final_train_features_aggregated %>%\n",
    "  model(\n",
    "    auto = ARIMA(sales ~ fourier(K=1) + has_event_near + has_two_events + snap_TX + month_2 + month_3 + month_4 + month_5 + month_6 + month_7+ month_8+ month_9+ month_10+ month_11 + month_12, stepwise = TRUE, approx = TRUE)\n",
    "  )"
   ]
  },
  {
   "cell_type": "markdown",
   "id": "ba70a98a-f61b-4cdf-af90-b2e0a7296a6c",
   "metadata": {
    "tags": []
   },
   "source": [
    "### Test for individual points by using the general model"
   ]
  },
  {
   "cell_type": "code",
   "execution_count": null,
   "id": "a850f85a-3c46-4727-943f-ec6caf036af3",
   "metadata": {},
   "outputs": [],
   "source": [
    "plan(\"future::multisession\") \n",
    "\n",
    "df_final_test_features_aggregated = df_final_test_features %>%\n",
    "    filter(id %in% df_final_train_features_mix$id) %>%\n",
    "    group_by(date, id) %>%\n",
    "    summarize(sales = mean(sales), \n",
    "              weekend = first(weekend), \n",
    "              has_event_near = first(has_event_near), \n",
    "              has_two_events = first(has_two_events), \n",
    "              snap_TX=first(snap_TX),\n",
    "              month_2=first(month_2),\n",
    "              month_3=first(month_3),\n",
    "              month_4=first(month_4),\n",
    "              month_5=first(month_5),\n",
    "              month_6=first(month_6),\n",
    "              month_7=first(month_7),\n",
    "              month_8=first(month_8),\n",
    "              month_9=first(month_9),\n",
    "              month_10=first(month_10),\n",
    "              month_11=first(month_11),\n",
    "              month_12=first(month_12),\n",
    "              .groups = \"drop\"\n",
    "             )\n",
    "\n",
    "ts_final_test_features_aggregated = df_final_test_features_aggregated %>%\n",
    "        mutate(date = as.Date(date)) %>%\n",
    "        as_tsibble(index=date, key=c(\"id\"))\n",
    "\n",
    "accuracy_arima_list = c()\n",
    "for (product_id in df_final_train_features_mix$id) {\n",
    "    \n",
    "    ts_final_test_features_aggregated_product = ts_final_test_features_aggregated %>%\n",
    "        filter(id == product_id) %>%\n",
    "        select(-id) %>%\n",
    "        select(date, sales:month_12) %>% ungroup()\n",
    "    arima_fc = arima_fit %>% forecast(ts_final_test_features_aggregated_product)\n",
    "    accuracy_arima = accuracy(arima_fc, ts_final_test_features_aggregated_product)\n",
    "    accuracy_arima_list = append(accuracy_arima_list, accuracy_arima$RMSE)\n",
    "}\n",
    "accuracy_arima_list\n",
    "mean_accuracy_arima_without_gmm = accuracy_arima_list %>% mean()\n",
    "mean_accuracy_arima_without_gmm"
   ]
  },
  {
   "cell_type": "markdown",
   "id": "7cd95946-5921-4a11-a3f2-ef6de0e938d3",
   "metadata": {
    "tags": []
   },
   "source": [
    "### Cluster-based General Model Training"
   ]
  },
  {
   "cell_type": "code",
   "execution_count": null,
   "id": "84f344b0-770d-4361-89f2-10a29bffb39c",
   "metadata": {},
   "outputs": [],
   "source": [
    "plan(\"future::multisession\") \n",
    "\n",
    "\n",
    "df_final_train_features_aggregated = df_final_train_features %>%\n",
    "    filter(id %in% df_final_train_features_mix$id) %>%\n",
    "    group_by(date,cluster_gmm) %>%\n",
    "    summarize(sales = mean(sales), weekend = first(weekend), \n",
    "              has_event_near = first(has_event_near), \n",
    "              has_two_events = first(has_two_events), \n",
    "              snap_TX=first(snap_TX),\n",
    "              month_2=first(month_2),\n",
    "              month_3=first(month_3),\n",
    "              month_4=first(month_4),\n",
    "              month_5=first(month_5),\n",
    "              month_6=first(month_6),\n",
    "              month_7=first(month_7),\n",
    "              month_8=first(month_8),\n",
    "              month_9=first(month_9),\n",
    "              month_10=first(month_10),\n",
    "              month_11=first(month_11),\n",
    "              month_12=first(month_12),\n",
    "              .groups=\"drop\"\n",
    "             )\n",
    "\n",
    "ts_final_train_features_aggregated = df_final_train_features_aggregated %>%\n",
    "    mutate(date = as.Date(date)) %>%\n",
    "    as_tsibble(index=date, key=c(\"cluster_gmm\"))\n",
    "\n",
    "arima_fit <- ts_final_train_features_aggregated %>%\n",
    "  model(\n",
    "    auto = ARIMA(sales ~ fourier(K=1) + has_event_near + has_two_events + snap_TX + month_2 + month_3 + month_4 + month_5 + month_6 + month_7+ month_8+ month_9+ month_10+ month_11 + month_12, stepwise = TRUE, approx = TRUE)\n",
    "  )"
   ]
  },
  {
   "cell_type": "markdown",
   "id": "1d06d751-6800-4b73-8b3b-0d7e5b65de39",
   "metadata": {
    "tags": []
   },
   "source": [
    "### Test for individual points by using the gmm cluster-based general model"
   ]
  },
  {
   "cell_type": "code",
   "execution_count": null,
   "id": "ed7bf63e-1def-4b39-8921-e086f38f5a92",
   "metadata": {},
   "outputs": [],
   "source": [
    "plan(\"future::multisession\") \n",
    "\n",
    "\n",
    "df_final_test_features_aggregated = df_final_test_features %>%\n",
    "    filter(id %in% df_final_train_features_mix$id) %>%\n",
    "    group_by(date, cluster_gmm, id) %>%\n",
    "    summarize(sales = mean(sales),\n",
    "              weekend = first(weekend),\n",
    "              has_event_near = first(has_event_near),\n",
    "              has_two_events = first(has_two_events),\n",
    "              snap_TX=first(snap_TX),\n",
    "              month_2=first(month_2),\n",
    "              month_3=first(month_3),\n",
    "              month_4=first(month_4),\n",
    "              month_5=first(month_5),\n",
    "              month_6=first(month_6),\n",
    "              month_7=first(month_7),\n",
    "              month_8=first(month_8),\n",
    "              month_9=first(month_9),\n",
    "              month_10=first(month_10),\n",
    "              month_11=first(month_11),\n",
    "              month_12=first(month_12),\n",
    "              .groups = \"drop\"\n",
    "             )\n",
    "\n",
    "ts_final_test_features_aggregated = df_final_test_features_aggregated %>%\n",
    "        mutate(date = as.Date(date)) %>%\n",
    "        as_tsibble(index=date, key=c(\"cluster_gmm\",\"id\"))\n",
    "\n",
    "accuracy_arima_list = c()\n",
    "\n",
    "for (product_id in df_final_train_features_mix$id) {\n",
    "    ts_final_test_features_aggregated_product = ts_final_test_features_aggregated %>%\n",
    "        filter(id == product_id) %>%\n",
    "        select(-id) %>%\n",
    "        select(date, cluster_gmm, sales:month_12) %>% ungroup()\n",
    "    cluster_num = unique(ts_final_test_features_aggregated_product$cluster_gmm)\n",
    "    arima_fc = arima_fit %>% \n",
    "                filter(cluster_gmm == cluster_num) %>% \n",
    "                forecast(ts_final_test_features_aggregated_product)\n",
    "    accuracy_arima = accuracy(arima_fc, ts_final_test_features_aggregated_product)\n",
    "    accuracy_arima_list = append(accuracy_arima_list, accuracy_arima$RMSE)\n",
    "}\n",
    "\n",
    "accuracy_arima_list\n",
    "mean_accuracy_arima_gmm = accuracy_arima_list %>% mean()\n",
    "mean_accuracy_arima_gmm"
   ]
  },
  {
   "cell_type": "markdown",
   "id": "5450bdba-d106-49cb-9e47-4f10beecc2e1",
   "metadata": {},
   "source": [
    "## Results Summary"
   ]
  },
  {
   "cell_type": "code",
   "execution_count": null,
   "id": "54a2aff7-8f24-454f-8afd-d63a57b4b61c",
   "metadata": {},
   "outputs": [],
   "source": [
    "mean_accuracy_arima_without_hc\n",
    "mean_accuracy_arima_hc\n",
    "mean_accuracy_arima_without_gmm\n",
    "mean_accuracy_arima_gmm"
   ]
  }
 ],
 "metadata": {
  "kernelspec": {
   "display_name": "R",
   "language": "R",
   "name": "ir"
  },
  "language_info": {
   "codemirror_mode": "r",
   "file_extension": ".r",
   "mimetype": "text/x-r-source",
   "name": "R",
   "pygments_lexer": "r",
   "version": "4.2.1"
  }
 },
 "nbformat": 4,
 "nbformat_minor": 5
}
